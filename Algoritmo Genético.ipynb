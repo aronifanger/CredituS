{
 "cells": [
  {
   "cell_type": "markdown",
   "metadata": {},
   "source": [
    "# Algoritmo Genético"
   ]
  },
  {
   "cell_type": "markdown",
   "metadata": {},
   "source": [
    "## Implementação utilizando a biblioteca numpy"
   ]
  },
  {
   "cell_type": "code",
   "execution_count": 1,
   "metadata": {
    "collapsed": false
   },
   "outputs": [],
   "source": [
    "import numpy as np\n",
    "import pandas as pd\n",
    "from numpy.random import rand\n",
    "import time"
   ]
  },
  {
   "cell_type": "markdown",
   "metadata": {},
   "source": [
    "## Inicialização de arquivos"
   ]
  },
  {
   "cell_type": "code",
   "execution_count": 249,
   "metadata": {
    "collapsed": false
   },
   "outputs": [],
   "source": [
    "DIR_DATASET = \"./datasets/01_LicoesSemTriagemDosDados.csv\"\n",
    "\n",
    "DATASET = pd.read_csv(DIR_DATASET, delimiter=\";\", names=None)\n",
    "\n",
    "VALUES = np.matrix(dataset.iloc[:,0:-1].values).transpose()\n",
    "CLASSES = np.ones([100,1]).dot(np.matrix(dataset.iloc[:,-1].values) == DATASET.iloc[0,-1])"
   ]
  },
  {
   "cell_type": "markdown",
   "metadata": {
    "collapsed": true
   },
   "source": [
    "## Inicialização dos parâmetros"
   ]
  },
  {
   "cell_type": "code",
   "execution_count": 255,
   "metadata": {
    "collapsed": false
   },
   "outputs": [],
   "source": [
    "DNA_SIZE    = len(dataset.columns) - 1\n",
    "POP_SIZE    = 100\n",
    "GENERATIONS = 5000\n",
    "\n",
    "population = rand(DNA_SIZE*POP_SIZE).reshape(POP_SIZE, DNA_SIZE) * 2 - 1"
   ]
  },
  {
   "cell_type": "code",
   "execution_count": 256,
   "metadata": {
    "collapsed": false
   },
   "outputs": [],
   "source": [
    "def fitness(population):\n",
    "    return( np.mean( (population.dot(VALUES) > 0) == CLASSES, axis=1) )"
   ]
  },
  {
   "cell_type": "code",
   "execution_count": 262,
   "metadata": {
    "collapsed": false
   },
   "outputs": [
    {
     "data": {
      "text/plain": [
       "matrix([[ 0.37333333],\n",
       "        [ 0.59      ],\n",
       "        [ 0.645     ],\n",
       "        [ 0.48      ],\n",
       "        [ 0.525     ],\n",
       "        [ 0.43166667],\n",
       "        [ 0.64666667],\n",
       "        [ 0.48166667],\n",
       "        [ 0.64166667],\n",
       "        [ 0.48166667]])"
      ]
     },
     "execution_count": 262,
     "metadata": {},
     "output_type": "execute_result"
    }
   ],
   "source": [
    "fitness(population)[:10]"
   ]
  },
  {
   "cell_type": "code",
   "execution_count": 163,
   "metadata": {
    "collapsed": false
   },
   "outputs": [
    {
     "data": {
      "text/plain": [
       "True"
      ]
     },
     "execution_count": 163,
     "metadata": {},
     "output_type": "execute_result"
    }
   ],
   "source": [
    "def crossover(population):\n",
    "    "
   ]
  },
  {
   "cell_type": "code",
   "execution_count": null,
   "metadata": {
    "collapsed": true
   },
   "outputs": [],
   "source": [
    "def mutate(population):\n",
    "    "
   ]
  },
  {
   "cell_type": "code",
   "execution_count": 4,
   "metadata": {
    "collapsed": false
   },
   "outputs": [
    {
     "name": "stdout",
     "output_type": "stream",
     "text": [
      "Inicializando vetor:  0.028067350387573242\n",
      "Calculando multiplicacao:   6.5113749504089355\n",
      "Tempo total:   6.539442300796509\n"
     ]
    }
   ],
   "source": [
    "start = time.time()\n",
    "\n",
    "r1 = tf.random_uniform(shape=[n,n])\n",
    "r2 = tf.random_uniform(shape=[n,n])\n",
    "\n",
    "end1 = time.time()\n",
    "print(\"Inicializando vetor: \", end1 - start)\n",
    "\n",
    "prod = tf.matmul(r1, r2) \n",
    "\n",
    "sess = tf.Session(config=tf.ConfigProto(log_device_placement=True))\n",
    "sess.run(prod)\n",
    "\n",
    "end2 = time.time()\n",
    "print(\"Calculando multiplicacao:  \", end2 - end1)\n",
    "print(\"Tempo total:  \", end2 - start)"
   ]
  },
  {
   "cell_type": "code",
   "execution_count": 5,
   "metadata": {
    "collapsed": false
   },
   "outputs": [
    {
     "name": "stdout",
     "output_type": "stream",
     "text": [
      "Inicializando vetor:  0.5375020503997803\n",
      "Calculando multiplicacao:   4.282929420471191\n",
      "Tempo total:   4.820431470870972\n"
     ]
    }
   ],
   "source": [
    "start = time.time()\n",
    "\n",
    "r1 = np.random.rand(n,n)\n",
    "r2 = np.random.rand(n,n)\n",
    "\n",
    "end1 = time.time()\n",
    "print(\"Inicializando vetor: \", end1 - start)\n",
    "\n",
    "np.dot(r1,r2)\n",
    "\n",
    "end2 = time.time()\n",
    "print(\"Calculando multiplicacao:  \", end2 - end1)\n",
    "print(\"Tempo total:  \", end2 - start)"
   ]
  }
 ],
 "metadata": {
  "anaconda-cloud": {},
  "kernelspec": {
   "display_name": "Python [conda root]",
   "language": "python",
   "name": "conda-root-py"
  },
  "language_info": {
   "codemirror_mode": {
    "name": "ipython",
    "version": 3
   },
   "file_extension": ".py",
   "mimetype": "text/x-python",
   "name": "python",
   "nbconvert_exporter": "python",
   "pygments_lexer": "ipython3",
   "version": "3.5.2"
  }
 },
 "nbformat": 4,
 "nbformat_minor": 1
}
